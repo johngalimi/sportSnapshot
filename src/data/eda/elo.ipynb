{
 "cells": [
  {
   "cell_type": "code",
   "execution_count": 1,
   "metadata": {},
   "outputs": [],
   "source": [
    "# https://www.geeksforgeeks.org/elo-rating-algorithm/\n",
    "# https://fivethirtyeight.com/features/how-we-calculate-nba-elo-ratings/\n",
    "# https://github.com/fivethirtyeight/nfl-elo-game\n",
    "\n",
    "import json\n",
    "import pandas as pd\n",
    "\n",
    "with open('bos_2019.json') as f:\n",
    "  data = json.load(f)\n",
    "\n",
    "df = pd.DataFrame(data)"
   ]
  },
  {
   "cell_type": "code",
   "execution_count": 2,
   "metadata": {},
   "outputs": [
    {
     "data": {
      "text/html": [
       "<div>\n",
       "<style scoped>\n",
       "    .dataframe tbody tr th:only-of-type {\n",
       "        vertical-align: middle;\n",
       "    }\n",
       "\n",
       "    .dataframe tbody tr th {\n",
       "        vertical-align: top;\n",
       "    }\n",
       "\n",
       "    .dataframe thead th {\n",
       "        text-align: right;\n",
       "    }\n",
       "</style>\n",
       "<table border=\"1\" class=\"dataframe\">\n",
       "  <thead>\n",
       "    <tr style=\"text-align: right;\">\n",
       "      <th></th>\n",
       "      <th>id</th>\n",
       "      <th>game_date</th>\n",
       "      <th>game_season</th>\n",
       "      <th>team_id</th>\n",
       "      <th>opponent_id</th>\n",
       "      <th>team_points</th>\n",
       "      <th>opponent_points</th>\n",
       "      <th>is_team_home</th>\n",
       "      <th>is_overtime</th>\n",
       "    </tr>\n",
       "  </thead>\n",
       "  <tbody>\n",
       "    <tr>\n",
       "      <th>0</th>\n",
       "      <td>12677</td>\n",
       "      <td>2018-10-03</td>\n",
       "      <td>2019</td>\n",
       "      <td>31</td>\n",
       "      <td>39</td>\n",
       "      <td>0</td>\n",
       "      <td>7</td>\n",
       "      <td>False</td>\n",
       "      <td>False</td>\n",
       "    </tr>\n",
       "    <tr>\n",
       "      <th>1</th>\n",
       "      <td>12678</td>\n",
       "      <td>2018-10-04</td>\n",
       "      <td>2019</td>\n",
       "      <td>31</td>\n",
       "      <td>36</td>\n",
       "      <td>4</td>\n",
       "      <td>0</td>\n",
       "      <td>False</td>\n",
       "      <td>False</td>\n",
       "    </tr>\n",
       "    <tr>\n",
       "      <th>2</th>\n",
       "      <td>12679</td>\n",
       "      <td>2018-10-08</td>\n",
       "      <td>2019</td>\n",
       "      <td>31</td>\n",
       "      <td>37</td>\n",
       "      <td>6</td>\n",
       "      <td>3</td>\n",
       "      <td>True</td>\n",
       "      <td>False</td>\n",
       "    </tr>\n",
       "    <tr>\n",
       "      <th>3</th>\n",
       "      <td>12680</td>\n",
       "      <td>2018-10-11</td>\n",
       "      <td>2019</td>\n",
       "      <td>31</td>\n",
       "      <td>55</td>\n",
       "      <td>4</td>\n",
       "      <td>1</td>\n",
       "      <td>True</td>\n",
       "      <td>False</td>\n",
       "    </tr>\n",
       "    <tr>\n",
       "      <th>4</th>\n",
       "      <td>12681</td>\n",
       "      <td>2018-10-13</td>\n",
       "      <td>2019</td>\n",
       "      <td>31</td>\n",
       "      <td>38</td>\n",
       "      <td>8</td>\n",
       "      <td>2</td>\n",
       "      <td>True</td>\n",
       "      <td>False</td>\n",
       "    </tr>\n",
       "  </tbody>\n",
       "</table>\n",
       "</div>"
      ],
      "text/plain": [
       "      id   game_date game_season team_id opponent_id team_points  \\\n",
       "0  12677  2018-10-03        2019      31          39           0   \n",
       "1  12678  2018-10-04        2019      31          36           4   \n",
       "2  12679  2018-10-08        2019      31          37           6   \n",
       "3  12680  2018-10-11        2019      31          55           4   \n",
       "4  12681  2018-10-13        2019      31          38           8   \n",
       "\n",
       "  opponent_points is_team_home is_overtime  \n",
       "0               7        False       False  \n",
       "1               0        False       False  \n",
       "2               3         True       False  \n",
       "3               1         True       False  \n",
       "4               2         True       False  "
      ]
     },
     "execution_count": 2,
     "metadata": {},
     "output_type": "execute_result"
    }
   ],
   "source": [
    "df.head()"
   ]
  },
  {
   "cell_type": "code",
   "execution_count": 36,
   "metadata": {},
   "outputs": [],
   "source": [
    "import math\n",
    "\n",
    "def get_probability(rating_a: float, rating_b: float) -> float:\n",
    "    return 1 / (1 + math.pow(10, (rating_a - rating_b) / 400))"
   ]
  },
  {
   "cell_type": "code",
   "execution_count": 37,
   "metadata": {},
   "outputs": [
    {
     "data": {
      "text/plain": [
       "0.2402530733520421"
      ]
     },
     "execution_count": 37,
     "metadata": {},
     "output_type": "execute_result"
    }
   ],
   "source": [
    "get_probability(1200, 1000)"
   ]
  },
  {
   "cell_type": "code",
   "execution_count": 38,
   "metadata": {},
   "outputs": [
    {
     "data": {
      "text/plain": [
       "0.7597469266479578"
      ]
     },
     "execution_count": 38,
     "metadata": {},
     "output_type": "execute_result"
    }
   ],
   "source": [
    "get_probability(1000, 1200)"
   ]
  },
  {
   "cell_type": "code",
   "execution_count": 39,
   "metadata": {},
   "outputs": [],
   "source": [
    "def get_updated_ratings(\n",
    "    rating_a: float, \n",
    "    rating_b: float,\n",
    "    probability_a: float,\n",
    "    probability_b: float,\n",
    "    is_a_win: bool,\n",
    "    k: int \n",
    ") -> (float, float):\n",
    "    if is_a_win:\n",
    "        a_diff = 1 - probability_a\n",
    "        b_diff = 0 - probability_b\n",
    "    else:\n",
    "        a_diff = 0 - probability_a\n",
    "        b_diff = 1 - probability_b\n",
    "\n",
    "    updated_rating_a = rating_a + (k * a_diff)\n",
    "    updated_rating_b = rating_b + (k * b_diff)\n",
    "    \n",
    "    return updated_rating_a, updated_rating_b"
   ]
  },
  {
   "cell_type": "code",
   "execution_count": 40,
   "metadata": {},
   "outputs": [
    {
     "data": {
      "text/plain": [
       "(1222.8, 977.2)"
      ]
     },
     "execution_count": 40,
     "metadata": {},
     "output_type": "execute_result"
    }
   ],
   "source": [
    "get_updated_ratings(1200, 1000, .24, .76, True, 30)"
   ]
  },
  {
   "cell_type": "code",
   "execution_count": 41,
   "metadata": {},
   "outputs": [
    {
     "data": {
      "text/plain": [
       "(1192.8, 1007.2)"
      ]
     },
     "execution_count": 41,
     "metadata": {},
     "output_type": "execute_result"
    }
   ],
   "source": [
    "get_updated_ratings(1200, 1000, .24, .76, False, 30)"
   ]
  },
  {
   "cell_type": "code",
   "execution_count": 42,
   "metadata": {},
   "outputs": [],
   "source": [
    "def get_elo_ratings(\n",
    "    rating_a: float, \n",
    "    rating_b: float, \n",
    "    is_a_win: bool, \n",
    "    k: int\n",
    ") -> (float, float):\n",
    "    probability_a = get_probability(rating_a, rating_b)\n",
    "    probability_b = get_probability(rating_b, rating_a)\n",
    "    \n",
    "    return get_updated_ratings(rating_a, rating_b, probability_a, probability_b, is_a_win, k)"
   ]
  },
  {
   "cell_type": "code",
   "execution_count": 43,
   "metadata": {},
   "outputs": [
    {
     "data": {
      "text/plain": [
       "(1222.7924077994387, 977.2075922005613)"
      ]
     },
     "execution_count": 43,
     "metadata": {},
     "output_type": "execute_result"
    }
   ],
   "source": [
    "get_elo_ratings(1200, 1000, True, 30)"
   ]
  },
  {
   "cell_type": "code",
   "execution_count": 44,
   "metadata": {},
   "outputs": [
    {
     "data": {
      "text/plain": [
       "(1192.7924077994387, 1007.2075922005613)"
      ]
     },
     "execution_count": 44,
     "metadata": {},
     "output_type": "execute_result"
    }
   ],
   "source": [
    "get_elo_ratings(1200, 1000, False, 30)"
   ]
  },
  {
   "cell_type": "code",
   "execution_count": null,
   "metadata": {},
   "outputs": [],
   "source": []
  }
 ],
 "metadata": {
  "kernelspec": {
   "display_name": "Python 3",
   "language": "python",
   "name": "python3"
  },
  "language_info": {
   "codemirror_mode": {
    "name": "ipython",
    "version": 3
   },
   "file_extension": ".py",
   "mimetype": "text/x-python",
   "name": "python",
   "nbconvert_exporter": "python",
   "pygments_lexer": "ipython3",
   "version": "3.8.6"
  }
 },
 "nbformat": 4,
 "nbformat_minor": 4
}
